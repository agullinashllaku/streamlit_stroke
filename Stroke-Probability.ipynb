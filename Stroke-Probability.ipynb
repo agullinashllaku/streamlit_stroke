{
 "cells": [
  {
   "cell_type": "code",
   "execution_count": 37,
   "id": "335e3aee-fe1b-466d-b8b5-6690e1ec2343",
   "metadata": {},
   "outputs": [],
   "source": [
    "import pandas as pd\n",
    "from sklearn.preprocessing import OneHotEncoder\n",
    "from sklearn.preprocessing import OrdinalEncoder\n",
    "from sklearn.linear_model import LogisticRegression\n",
    "from sklearn.model_selection import train_test_split\n",
    "from sklearn.preprocessing import StandardScaler\n",
    "from sklearn.compose import make_column_transformer\n",
    "from sklearn.metrics import accuracy_score, f1_score, precision_score, recall_score\n",
    "from sklearn.svm import SVC\n",
    "from sklearn.ensemble import RandomForestClassifier\n",
    "from sklearn.model_selection import GridSearchCV"
   ]
  },
  {
   "cell_type": "markdown",
   "id": "e54cd935-6176-4764-bcfb-eba946e9fe41",
   "metadata": {},
   "source": [
    "# Fill in NaN and getting overview of data"
   ]
  },
  {
   "cell_type": "code",
   "execution_count": 38,
   "id": "7184186d-7539-4d61-a928-9e33943a996e",
   "metadata": {},
   "outputs": [
    {
     "data": {
      "text/html": [
       "<div>\n",
       "<style scoped>\n",
       "    .dataframe tbody tr th:only-of-type {\n",
       "        vertical-align: middle;\n",
       "    }\n",
       "\n",
       "    .dataframe tbody tr th {\n",
       "        vertical-align: top;\n",
       "    }\n",
       "\n",
       "    .dataframe thead th {\n",
       "        text-align: right;\n",
       "    }\n",
       "</style>\n",
       "<table border=\"1\" class=\"dataframe\">\n",
       "  <thead>\n",
       "    <tr style=\"text-align: right;\">\n",
       "      <th></th>\n",
       "      <th>id</th>\n",
       "      <th>gender</th>\n",
       "      <th>age</th>\n",
       "      <th>hypertension</th>\n",
       "      <th>heart_disease</th>\n",
       "      <th>ever_married</th>\n",
       "      <th>work_type</th>\n",
       "      <th>Residence_type</th>\n",
       "      <th>avg_glucose_level</th>\n",
       "      <th>bmi</th>\n",
       "      <th>smoking_status</th>\n",
       "      <th>stroke</th>\n",
       "    </tr>\n",
       "  </thead>\n",
       "  <tbody>\n",
       "    <tr>\n",
       "      <th>0</th>\n",
       "      <td>9046</td>\n",
       "      <td>Male</td>\n",
       "      <td>67.0</td>\n",
       "      <td>0</td>\n",
       "      <td>1</td>\n",
       "      <td>Yes</td>\n",
       "      <td>Private</td>\n",
       "      <td>Urban</td>\n",
       "      <td>228.69</td>\n",
       "      <td>36.6</td>\n",
       "      <td>formerly smoked</td>\n",
       "      <td>1</td>\n",
       "    </tr>\n",
       "    <tr>\n",
       "      <th>1</th>\n",
       "      <td>51676</td>\n",
       "      <td>Female</td>\n",
       "      <td>61.0</td>\n",
       "      <td>0</td>\n",
       "      <td>0</td>\n",
       "      <td>Yes</td>\n",
       "      <td>Self-employed</td>\n",
       "      <td>Rural</td>\n",
       "      <td>202.21</td>\n",
       "      <td>NaN</td>\n",
       "      <td>never smoked</td>\n",
       "      <td>1</td>\n",
       "    </tr>\n",
       "    <tr>\n",
       "      <th>2</th>\n",
       "      <td>31112</td>\n",
       "      <td>Male</td>\n",
       "      <td>80.0</td>\n",
       "      <td>0</td>\n",
       "      <td>1</td>\n",
       "      <td>Yes</td>\n",
       "      <td>Private</td>\n",
       "      <td>Rural</td>\n",
       "      <td>105.92</td>\n",
       "      <td>32.5</td>\n",
       "      <td>never smoked</td>\n",
       "      <td>1</td>\n",
       "    </tr>\n",
       "    <tr>\n",
       "      <th>3</th>\n",
       "      <td>60182</td>\n",
       "      <td>Female</td>\n",
       "      <td>49.0</td>\n",
       "      <td>0</td>\n",
       "      <td>0</td>\n",
       "      <td>Yes</td>\n",
       "      <td>Private</td>\n",
       "      <td>Urban</td>\n",
       "      <td>171.23</td>\n",
       "      <td>34.4</td>\n",
       "      <td>smokes</td>\n",
       "      <td>1</td>\n",
       "    </tr>\n",
       "    <tr>\n",
       "      <th>4</th>\n",
       "      <td>1665</td>\n",
       "      <td>Female</td>\n",
       "      <td>79.0</td>\n",
       "      <td>1</td>\n",
       "      <td>0</td>\n",
       "      <td>Yes</td>\n",
       "      <td>Self-employed</td>\n",
       "      <td>Rural</td>\n",
       "      <td>174.12</td>\n",
       "      <td>24.0</td>\n",
       "      <td>never smoked</td>\n",
       "      <td>1</td>\n",
       "    </tr>\n",
       "  </tbody>\n",
       "</table>\n",
       "</div>"
      ],
      "text/plain": [
       "      id  gender   age  hypertension  heart_disease ever_married  \\\n",
       "0   9046    Male  67.0             0              1          Yes   \n",
       "1  51676  Female  61.0             0              0          Yes   \n",
       "2  31112    Male  80.0             0              1          Yes   \n",
       "3  60182  Female  49.0             0              0          Yes   \n",
       "4   1665  Female  79.0             1              0          Yes   \n",
       "\n",
       "       work_type Residence_type  avg_glucose_level   bmi   smoking_status  \\\n",
       "0        Private          Urban             228.69  36.6  formerly smoked   \n",
       "1  Self-employed          Rural             202.21   NaN     never smoked   \n",
       "2        Private          Rural             105.92  32.5     never smoked   \n",
       "3        Private          Urban             171.23  34.4           smokes   \n",
       "4  Self-employed          Rural             174.12  24.0     never smoked   \n",
       "\n",
       "   stroke  \n",
       "0       1  \n",
       "1       1  \n",
       "2       1  \n",
       "3       1  \n",
       "4       1  "
      ]
     },
     "execution_count": 38,
     "metadata": {},
     "output_type": "execute_result"
    }
   ],
   "source": [
    "df = pd.read_csv('streamlit_app/stroke.csv')\n",
    "df.head()"
   ]
  },
  {
   "cell_type": "code",
   "execution_count": 39,
   "id": "27fdda66-f510-43e4-b001-7e2445f35845",
   "metadata": {},
   "outputs": [],
   "source": [
    "df = df[df['gender']!='Other']"
   ]
  },
  {
   "cell_type": "code",
   "execution_count": 40,
   "id": "251a384d-38d1-4f0f-9a8a-b3d6d9b6ec26",
   "metadata": {},
   "outputs": [
    {
     "data": {
      "text/plain": [
       "id                     int64\n",
       "gender                object\n",
       "age                  float64\n",
       "hypertension           int64\n",
       "heart_disease          int64\n",
       "ever_married          object\n",
       "work_type             object\n",
       "Residence_type        object\n",
       "avg_glucose_level    float64\n",
       "bmi                  float64\n",
       "smoking_status        object\n",
       "stroke                 int64\n",
       "dtype: object"
      ]
     },
     "execution_count": 40,
     "metadata": {},
     "output_type": "execute_result"
    }
   ],
   "source": [
    "df.dtypes"
   ]
  },
  {
   "cell_type": "code",
   "execution_count": 41,
   "id": "339d6e0c-411a-4604-a945-528e577b0685",
   "metadata": {},
   "outputs": [
    {
     "data": {
      "text/plain": [
       "gender\n",
       "Female    2994\n",
       "Male      2115\n",
       "Name: count, dtype: int64"
      ]
     },
     "execution_count": 41,
     "metadata": {},
     "output_type": "execute_result"
    }
   ],
   "source": [
    "df.value_counts('gender')"
   ]
  },
  {
   "cell_type": "markdown",
   "id": "5c51c110-dd4b-464d-9063-c0a6c4598f34",
   "metadata": {},
   "source": [
    "#### Here we see that smoking_status has a lot of rows with Unknown, for the purpose of simplicity I will treat Unknown as a category on its own when it's being one hot encoded"
   ]
  },
  {
   "cell_type": "code",
   "execution_count": 42,
   "id": "3d367892-69f8-4568-a936-2e3add7ae15b",
   "metadata": {},
   "outputs": [
    {
     "data": {
      "text/plain": [
       "smoking_status\n",
       "never smoked       1892\n",
       "Unknown            1544\n",
       "formerly smoked     884\n",
       "smokes              789\n",
       "Name: count, dtype: int64"
      ]
     },
     "execution_count": 42,
     "metadata": {},
     "output_type": "execute_result"
    }
   ],
   "source": [
    "df.value_counts('smoking_status')"
   ]
  },
  {
   "cell_type": "code",
   "execution_count": 43,
   "id": "9cfb8da8-9e06-4332-84a5-91146b7709e7",
   "metadata": {},
   "outputs": [],
   "source": [
    "df.drop('id',axis=1,inplace=True)"
   ]
  },
  {
   "cell_type": "markdown",
   "id": "cdc7cc30-5a06-4afa-ace9-03fd91a007a5",
   "metadata": {},
   "source": [
    "# Splitting the data"
   ]
  },
  {
   "cell_type": "code",
   "execution_count": 44,
   "id": "bca4740b-39f5-473b-9f64-20c593e371f4",
   "metadata": {},
   "outputs": [],
   "source": [
    "X = df.drop('stroke', axis = 1)\n",
    "y = df.stroke\n",
    "\n",
    "X_train, X_test, y_train, y_test = train_test_split(X, y, test_size=0.2, random_state=42)"
   ]
  },
  {
   "cell_type": "markdown",
   "id": "fb88df87-6ffa-428a-8320-389a67987750",
   "metadata": {},
   "source": [
    "#### Filling in missing values with mean of BMI feature"
   ]
  },
  {
   "cell_type": "code",
   "execution_count": 45,
   "id": "d76f6fd8-ce91-4b78-9e32-a25697eb9098",
   "metadata": {},
   "outputs": [],
   "source": [
    "X_train['bmi'].fillna(X_train['bmi'].mean(),inplace=True)\n",
    "X_test['bmi'].fillna(X_test['bmi'].mean(),inplace=True)"
   ]
  },
  {
   "cell_type": "code",
   "execution_count": 46,
   "id": "9f431be1-da77-4c92-b2b7-3ae3beb5d841",
   "metadata": {},
   "outputs": [
    {
     "data": {
      "text/plain": [
       "gender               0\n",
       "age                  0\n",
       "hypertension         0\n",
       "heart_disease        0\n",
       "ever_married         0\n",
       "work_type            0\n",
       "Residence_type       0\n",
       "avg_glucose_level    0\n",
       "bmi                  0\n",
       "smoking_status       0\n",
       "dtype: int64"
      ]
     },
     "execution_count": 46,
     "metadata": {},
     "output_type": "execute_result"
    }
   ],
   "source": [
    "X_test.isna().sum()"
   ]
  },
  {
   "cell_type": "markdown",
   "id": "0ebf7744-62fe-4e58-a4f6-a4130a9a0bd8",
   "metadata": {},
   "source": [
    "# Pipeline creation - Preprocessing"
   ]
  },
  {
   "cell_type": "code",
   "execution_count": 47,
   "id": "8a9de535-4d87-4a49-a7e1-3e3264448ad1",
   "metadata": {},
   "outputs": [],
   "source": [
    "column_trans = make_column_transformer(\n",
    "    (OneHotEncoder(),['work_type','smoking_status']),\n",
    "    (OrdinalEncoder(),['gender','ever_married','Residence_type']),\n",
    "    (StandardScaler(), ['age','avg_glucose_level','bmi']),\n",
    "    remainder='passthrough')"
   ]
  },
  {
   "cell_type": "code",
   "execution_count": 48,
   "id": "167924d6-bfc5-4636-b2db-562866888be9",
   "metadata": {},
   "outputs": [],
   "source": [
    "from imblearn.over_sampling import SMOTE\n",
    "from imblearn.pipeline import Pipeline as ImbPipeline\n",
    "smote = SMOTE()"
   ]
  },
  {
   "cell_type": "code",
   "execution_count": 49,
   "id": "b3b7d981-391d-4916-a10b-442ff176a3af",
   "metadata": {},
   "outputs": [],
   "source": [
    "logreg = LogisticRegression(class_weight='balanced')\n",
    "# pipe = make_pipeline(column_trans, smote, logreg)\n",
    "pipe = ImbPipeline(steps=[('preprocessor', column_trans), \n",
    "                               ('smote', smote), \n",
    "                               ('classifier', logreg)])"
   ]
  },
  {
   "cell_type": "code",
   "execution_count": 50,
   "id": "7a1226f8-a248-4810-8b88-60b21bf1aa07",
   "metadata": {},
   "outputs": [],
   "source": [
    "svm = SVC(class_weight='balanced',probability=True)\n",
    "pipe_svm = ImbPipeline(steps=[('preprocessor', column_trans), \n",
    "                               ('smote', smote), \n",
    "                               ('classifier', svm)])"
   ]
  },
  {
   "cell_type": "code",
   "execution_count": 51,
   "id": "85047b7c-0c5f-4231-93ad-dadd98b3c6ab",
   "metadata": {},
   "outputs": [],
   "source": [
    "rfc = RandomForestClassifier(class_weight='balanced')\n",
    "pipe_rfc = ImbPipeline(steps=[('preprocessor', column_trans), \n",
    "                               ('smote', smote), \n",
    "                               ('classifier', rfc)])"
   ]
  },
  {
   "cell_type": "markdown",
   "id": "4879b10a-a5f9-48c7-88f3-4cef8d8f6928",
   "metadata": {},
   "source": [
    "## Logistic Regression MODEL"
   ]
  },
  {
   "cell_type": "code",
   "execution_count": 52,
   "id": "d9387d1f-edf0-4472-8af5-107105541e83",
   "metadata": {},
   "outputs": [
    {
     "name": "stdout",
     "output_type": "stream",
     "text": [
      "Evaluation Metrics for Logistic Regression\n",
      "Accuracy: 0.7416829745596869\n",
      "F1: 0.27472527472527475\n",
      "Recall: 0.8064516129032258\n",
      "Precision: 0.16556291390728478\n"
     ]
    }
   ],
   "source": [
    "pipe.fit(X_train, y_train)\n",
    "y_pred = pipe.predict(X_test)\n",
    "\n",
    "print(\"Evaluation Metrics for Logistic Regression\")\n",
    "print(\"Accuracy:\", accuracy_score(y_test,y_pred))\n",
    "print(\"F1:\", f1_score(y_test,y_pred))\n",
    "print(\"Recall:\", recall_score(y_test,y_pred))\n",
    "print(\"Precision:\", precision_score(y_test,y_pred))"
   ]
  },
  {
   "cell_type": "markdown",
   "id": "9bde4c0b-f96f-4566-8177-841e2c144cbe",
   "metadata": {},
   "source": [
    "### With hyperparameter tuning for Logistic Regression"
   ]
  },
  {
   "cell_type": "code",
   "execution_count": 54,
   "id": "c68e3206-8165-4c76-85ed-cb188c28d17e",
   "metadata": {},
   "outputs": [
    {
     "name": "stdout",
     "output_type": "stream",
     "text": [
      "Evaluation Metrics for Logistic Regression with hyperparameter tuning\n",
      "Accuracy: 0.7416829745596869\n",
      "F1: 0.2707182320441989\n",
      "Recall: 0.7903225806451613\n",
      "Precision: 0.16333333333333333\n"
     ]
    }
   ],
   "source": [
    "param_grid_log_reg = {\n",
    "    'classifier__C': [0.01, 0.1, 1, 10, 100],\n",
    "    'classifier__penalty': ['l1', 'l2'],  # 'l1' requires solver='liblinear'\n",
    "    'classifier__solver': ['liblinear', 'saga'],\n",
    "    'classifier__max_iter': [3000]\n",
    "}\n",
    "\n",
    "# Initialize GridSearchCV\n",
    "grid_search_log_reg = GridSearchCV(pipe, param_grid_log_reg, scoring='f1', cv=5)\n",
    "\n",
    "# Fit GridSearchCV\n",
    "grid_search_log_reg.fit(X_train, y_train)\n",
    "best_pipe_log = grid_search_log_reg.best_estimator_\n",
    "\n",
    "best_pipe_log.fit(X_train, y_train)\n",
    "y_pred = best_pipe_log.predict(X_test)\n",
    "\n",
    "print(\"Evaluation Metrics for Logistic Regression with hyperparameter tuning\")\n",
    "print(\"Accuracy:\", accuracy_score(y_test,y_pred))\n",
    "print(\"F1:\", f1_score(y_test,y_pred))\n",
    "print(\"Recall:\", recall_score(y_test,y_pred))\n",
    "print(\"Precision:\", precision_score(y_test,y_pred))"
   ]
  },
  {
   "cell_type": "markdown",
   "id": "2493be1b-c598-43d4-bdc0-077bd4b47af3",
   "metadata": {},
   "source": [
    "## SVC MODEL"
   ]
  },
  {
   "cell_type": "code",
   "execution_count": 55,
   "id": "04928362-2d16-47b2-b784-fa9fd91084d1",
   "metadata": {},
   "outputs": [
    {
     "name": "stdout",
     "output_type": "stream",
     "text": [
      "Evaluation Metrics for SVC\n",
      "Accuracy: 0.8189823874755382\n",
      "F1: 0.2570281124497992\n",
      "Recall: 0.5161290322580645\n",
      "Precision: 0.1711229946524064\n"
     ]
    }
   ],
   "source": [
    "pipe_svm.fit(X_train, y_train)\n",
    "y_pred = pipe_svm.predict(X_test)\n",
    "\n",
    "print(\"Evaluation Metrics for SVC\")\n",
    "print(\"Accuracy:\", accuracy_score(y_test,y_pred))\n",
    "print(\"F1:\", f1_score(y_test,y_pred))\n",
    "print(\"Recall:\", recall_score(y_test,y_pred))\n",
    "print(\"Precision:\", precision_score(y_test,y_pred))"
   ]
  },
  {
   "cell_type": "markdown",
   "id": "0b91e189-b1a0-43e4-97a2-e7e0f73441e1",
   "metadata": {},
   "source": [
    "### With hyperparameter tuning for SVC"
   ]
  },
  {
   "cell_type": "code",
   "execution_count": 56,
   "id": "888cfd0e-256e-4340-adea-2ca49cfd606e",
   "metadata": {},
   "outputs": [
    {
     "name": "stdout",
     "output_type": "stream",
     "text": [
      "Evaluation Metrics for SVC with hyperparameter tuning\n",
      "Accuracy: 0.8189823874755382\n",
      "F1: 0.2570281124497992\n",
      "Recall: 0.5161290322580645\n",
      "Precision: 0.1711229946524064\n"
     ]
    }
   ],
   "source": [
    "param_grid_svc = {\n",
    "    'classifier__C': [0.01, 0.1, 1, 10, 100],\n",
    "    'classifier__kernel': ['linear', 'poly', 'rbf', 'sigmoid'],\n",
    "    'classifier__gamma': ['scale', 'auto']  # Only relevant for 'rbf', 'poly', and 'sigmoid' kernels\n",
    "}\n",
    "\n",
    "# Initialize GridSearchCV\n",
    "grid_search_svc = GridSearchCV(pipe_svm, param_grid_svc, scoring='f1', cv=5)\n",
    "\n",
    "# Fit GridSearchCV\n",
    "grid_search_svc.fit(X_train, y_train)\n",
    "best_pipe_svc = grid_search_svc.best_estimator_\n",
    "\n",
    "print(\"Evaluation Metrics for SVC with hyperparameter tuning\")\n",
    "print(\"Accuracy:\", accuracy_score(y_test,y_pred))\n",
    "print(\"F1:\", f1_score(y_test,y_pred))\n",
    "print(\"Recall:\", recall_score(y_test,y_pred))\n",
    "print(\"Precision:\", precision_score(y_test,y_pred))"
   ]
  },
  {
   "cell_type": "markdown",
   "id": "7935ee60-765a-4f6f-a0c3-d962133ba580",
   "metadata": {},
   "source": [
    "## RFC MODEL"
   ]
  },
  {
   "cell_type": "code",
   "execution_count": 57,
   "id": "1f2c29cf-b1ac-43f0-a824-98e25e89733d",
   "metadata": {},
   "outputs": [
    {
     "name": "stdout",
     "output_type": "stream",
     "text": [
      "Evaluation Metrics for RFC\n",
      "Accuracy: 0.923679060665362\n",
      "F1: 0.9110314352945115\n",
      "Recall: 0.923679060665362\n",
      "Precision: 0.9014098436546515\n"
     ]
    }
   ],
   "source": [
    "pipe_rfc.fit(X_train, y_train)\n",
    "y_pred = pipe_rfc.predict(X_test)\n",
    "\n",
    "print(\"Evaluation Metrics for RFC\")\n",
    "print(\"Accuracy:\", accuracy_score(y_test,y_pred))\n",
    "print(\"F1:\", f1_score(y_test,y_pred,average='weighted'))\n",
    "print(\"Recall:\", recall_score(y_test,y_pred,average='weighted'))\n",
    "print(\"Precision:\", precision_score(y_test,y_pred,average='weighted'))"
   ]
  },
  {
   "cell_type": "markdown",
   "id": "5a17107c-5463-4788-bd2a-5539058ec522",
   "metadata": {},
   "source": [
    "### With hyperparameter tuning for RFC"
   ]
  },
  {
   "cell_type": "code",
   "execution_count": 58,
   "id": "d7110f45-077f-466d-8df5-d62fe1bb37ab",
   "metadata": {},
   "outputs": [
    {
     "name": "stdout",
     "output_type": "stream",
     "text": [
      "Evaluation Metrics for RFC with hyperparameter tuning\n",
      "Accuracy: 0.8571428571428571\n",
      "F1: 0.8794121225393581\n",
      "Recall: 0.8571428571428571\n",
      "Precision: 0.9077331016299137\n"
     ]
    }
   ],
   "source": [
    "param_grid = {\n",
    "    'classifier__n_estimators': [100, 200],\n",
    "    'classifier__max_depth': [None, 10, 20]\n",
    "}\n",
    "\n",
    "# Initialize GridSearchCV\n",
    "grid_search = GridSearchCV(pipe_rfc, param_grid, scoring='f1', cv=5)\n",
    "\n",
    "# Fit GridSearchCV\n",
    "grid_search.fit(X_train, y_train)\n",
    "best_pipe_rfc = grid_search.best_estimator_\n",
    "\n",
    "best_pipe_rfc.fit(X_train, y_train)\n",
    "y_pred = best_pipe_rfc.predict(X_test)\n",
    "\n",
    "print(\"Evaluation Metrics for RFC with hyperparameter tuning\")\n",
    "print(\"Accuracy:\", accuracy_score(y_test,y_pred))\n",
    "print(\"F1:\", f1_score(y_test,y_pred,average='weighted'))\n",
    "print(\"Recall:\", recall_score(y_test,y_pred,average='weighted'))\n",
    "print(\"Precision:\", precision_score(y_test,y_pred,average='weighted'))"
   ]
  },
  {
   "cell_type": "code",
   "execution_count": 60,
   "id": "b1cd829d-4155-4754-9912-47fae8511e76",
   "metadata": {},
   "outputs": [
    {
     "data": {
      "image/png": "[encoded data removed]",
      "text/plain": [
       "<Figure size 640x480 with 1 Axes>"
      ]
     },
     "metadata": {},
     "output_type": "display_data"
    }
   ],
   "source": [
    "from sklearn.metrics import precision_recall_curve\n",
    "import matplotlib.pyplot as plt\n",
    "\n",
    "precision, recall, thresholds = precision_recall_curve(y_test, y_pred)\n",
    "plt.plot(recall, precision)\n",
    "plt.xlabel(\"Recall\")\n",
    "plt.ylabel(\"Precision\")\n",
    "plt.title(\"Precision-Recall Curve\")\n",
    "plt.show()"
   ]
  },
  {
   "cell_type": "code",
   "execution_count": 61,
   "id": "7e8ebd43-6ecb-4131-8b3b-78eed5cd9f2f",
   "metadata": {},
   "outputs": [
    {
     "name": "stdout",
     "output_type": "stream",
     "text": [
      "[[937  23]\n",
      " [ 55   7]]\n"
     ]
    }
   ],
   "source": [
    "from sklearn.metrics import confusion_matrix\n",
    "\n",
    "y_pred = pipe_rfc.predict(X_test)\n",
    "cm = confusion_matrix(y_test, y_pred)\n",
    "print(cm)"
   ]
  },
  {
   "cell_type": "code",
   "execution_count": 62,
   "id": "20e0a755-6853-4ede-8499-8e5abdda23f3",
   "metadata": {},
   "outputs": [
    {
     "name": "stdout",
     "output_type": "stream",
     "text": [
      "AUC-ROC: 0.76\n"
     ]
    },
    {
     "data": {
      "image/png": "[encoded data removed]",
      "text/plain": [
       "<Figure size 640x480 with 1 Axes>"
      ]
     },
     "metadata": {},
     "output_type": "display_data"
    }
   ],
   "source": [
    "from sklearn.metrics import roc_auc_score, roc_curve\n",
    "\n",
    "\n",
    "y_pred_proba = pipe_svm.predict_proba(X_test)[:, 1]\n",
    "auc = roc_auc_score(y_test, y_pred_proba)\n",
    "print(f\"AUC-ROC: {auc:.2f}\")\n",
    "\n",
    "fpr, tpr, thresholds = roc_curve(y_test, y_pred_proba)\n",
    "plt.plot(fpr, tpr, label=f\"AUC = {auc:.2f}\")\n",
    "plt.xlabel(\"False Positive Rate\")\n",
    "plt.ylabel(\"True Positive Rate\")\n",
    "plt.title(\"ROC Curve\")\n",
    "plt.show()"
   ]
  },
  {
   "cell_type": "code",
   "execution_count": 63,
   "id": "40f6f359-e4db-42ac-b581-c2ff4c99f507",
   "metadata": {},
   "outputs": [
    {
     "name": "stdout",
     "output_type": "stream",
     "text": [
      "Test class distribution: {0: 960, 1: 62}\n",
      "Predicted class distribution: {0: 992, 1: 30}\n"
     ]
    }
   ],
   "source": [
    "import numpy as np\n",
    "print(\"Test class distribution:\", dict(zip(*np.unique(y_test, return_counts=True))))\n",
    "print(\"Predicted class distribution:\", dict(zip(*np.unique(y_pred, return_counts=True))))"
   ]
  },
  {
   "cell_type": "code",
   "execution_count": 64,
   "id": "1c1d7cb6-8072-462d-a0ad-ad91b2b9ab6e",
   "metadata": {},
   "outputs": [
    {
     "name": "stdout",
     "output_type": "stream",
     "text": [
      "      gender   age  hypertension  heart_disease ever_married      work_type  \\\n",
      "4688    Male  31.0             0              0           No  Self-employed   \n",
      "4478    Male  40.0             0              0          Yes  Self-employed   \n",
      "3521    Male  52.0             0              0          Yes        Private   \n",
      "4355  Female  79.0             1              0          Yes  Self-employed   \n",
      "3826  Female  75.0             0              0          Yes       Govt_job   \n",
      "\n",
      "     Residence_type  avg_glucose_level   bmi smoking_status  \n",
      "4688          Rural              64.85  23.0        Unknown  \n",
      "4478          Rural              65.29  28.3   never smoked  \n",
      "3521          Rural             111.04  30.0   never smoked  \n",
      "4355          Rural              76.64  19.5   never smoked  \n",
      "3826          Rural              94.77  27.2   never smoked   [ 1.70012543  6.93348071 24.61330464 45.56446429 46.96187218]\n"
     ]
    }
   ],
   "source": [
    "y_prob = best_pipe_rfc.predict_proba(X_test)\n",
    "positive_prob = y_prob[:,1]\n",
    "print(X_test[:5],positive_prob[:5]*100)"
   ]
  },
  {
   "cell_type": "markdown",
   "id": "7a3d82e0-83f2-481b-b4ea-32b983948d0d",
   "metadata": {},
   "source": [
    "#### Save the model to use in the Streamlit app"
   ]
  },
  {
   "cell_type": "code",
   "execution_count": 65,
   "id": "39837262-98e6-4900-b53c-06c7183c7998",
   "metadata": {},
   "outputs": [
    {
     "data": {
      "text/plain": [
       "['best_pipe_rfc.pkl']"
      ]
     },
     "execution_count": 65,
     "metadata": {},
     "output_type": "execute_result"
    }
   ],
   "source": [
    "import joblib\n",
    "\n",
    "joblib.dump(best_pipe_rfc,'best_pipe_rfc.pkl')"
   ]
  }
 ],
 "metadata": {
  "kernelspec": {
   "display_name": "Python 3 (ipykernel)",
   "language": "python",
   "name": "python3"
  },
  "language_info": {
   "codemirror_mode": {
    "name": "ipython",
    "version": 3
   },
   "file_extension": ".py",
   "mimetype": "text/x-python",
   "name": "python",
   "nbconvert_exporter": "python",
   "pygments_lexer": "ipython3",
   "version": "3.11.7"
  }
 },
 "nbformat": 4,
 "nbformat_minor": 5
}
